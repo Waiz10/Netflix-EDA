{
 "cells": [
  {
   "cell_type": "markdown",
   "metadata": {},
   "source": [
    "## 2021486 Assignment-3 CE408"
   ]
  },
  {
   "cell_type": "code",
   "execution_count": 3,
   "metadata": {},
   "outputs": [],
   "source": [
    "from pyspark.sql import SparkSession\n",
    "from pyspark.sql.functions import col, count, desc, avg, max, min, split, length, collect_list"
   ]
  },
  {
   "cell_type": "markdown",
   "metadata": {},
   "source": [
    "### Function to create spark session"
   ]
  },
  {
   "cell_type": "code",
   "execution_count": 4,
   "metadata": {},
   "outputs": [],
   "source": [
    "def create_spark_session():\n",
    "    return SparkSession.builder \\\n",
    "        .appName(\"Netflix Dataset EDA\") \\\n",
    "        .getOrCreate()"
   ]
  },
  {
   "cell_type": "markdown",
   "metadata": {},
   "source": [
    "### Function to Load Dataset"
   ]
  },
  {
   "cell_type": "code",
   "execution_count": 5,
   "metadata": {},
   "outputs": [],
   "source": [
    "def load_netflix_dataset(spark, file_path):\n",
    "    return spark.read.csv(file_path, header=True, inferSchema=True)"
   ]
  },
  {
   "cell_type": "markdown",
   "metadata": {},
   "source": [
    "### Function for Data Analysis"
   ]
  },
  {
   "cell_type": "code",
   "execution_count": 6,
   "metadata": {},
   "outputs": [],
   "source": [
    "def perform_eda(netflix_df):\n",
    "    print(\"1. Total Content by Content Type:\")\n",
    "    content_by_type = netflix_df.groupBy(\"type\") \\\n",
    "        .agg(count(\"*\").alias(\"total_count\")) \\\n",
    "        .orderBy(desc(\"total_count\"))\n",
    "    content_by_type.show()\n",
    "\n",
    "    print(\"\\n2. Most Frequent Actors in the Dataset:\")\n",
    "    frequent_actors = netflix_df.select(split(col(\"cast\"), \", \").alias(\"actors\")) \\\n",
    "        .withColumn(\"actor\", col(\"actors\").getItem(0)) \\\n",
    "        .groupBy(\"actor\") \\\n",
    "        .agg(count(\"*\").alias(\"appearance_count\")) \\\n",
    "        .orderBy(desc(\"appearance_count\")) \\\n",
    "        .limit(10)\n",
    "    frequent_actors.show()\n",
    "\n",
    "    print(\"\\n3. Yearly Trend of Content Addition:\")\n",
    "    yearly_trend = netflix_df.groupBy(\"release_year\") \\\n",
    "        .agg(count(\"*\").alias(\"content_count\")) \\\n",
    "        .orderBy(\"release_year\")\n",
    "    yearly_trend.show()\n",
    "\n",
    "    print(\"\\n4. Top 10 Countries with the Most Content:\")\n",
    "    country_content = netflix_df.groupBy(\"country\") \\\n",
    "        .agg(count(\"*\").alias(\"content_count\")) \\\n",
    "        .orderBy(desc(\"content_count\")) \\\n",
    "        .limit(10)\n",
    "    country_content.show()\n",
    "\n",
    "    print(\"\\n5. Analysis of Ratings and Their Distribution:\")\n",
    "    rating_distribution = netflix_df.groupBy(\"rating\") \\\n",
    "        .agg(count(\"*\").alias(\"rating_count\")) \\\n",
    "        .orderBy(desc(\"rating_count\"))\n",
    "    rating_distribution.show()\n",
    "\n",
    "    print(\"\\n6. Top 10 Titles with the Shortest Names:\")\n",
    "    shortest_titles = netflix_df \\\n",
    "        .withColumn(\"title_length\", length(col(\"title\"))) \\\n",
    "        .orderBy(\"title_length\") \\\n",
    "        .select(\"title\", \"title_length\") \\\n",
    "        .limit(10)\n",
    "    shortest_titles.show()\n",
    "\n",
    "    print(\"\\n7. Correlation Between Release Year and Content Count:\")\n",
    "    yearly_correlation = netflix_df.groupBy(\"release_year\") \\\n",
    "        .agg(count(\"*\").alias(\"content_count\")) \\\n",
    "        .orderBy(\"release_year\")\n",
    "    yearly_correlation.show()\n"
   ]
  },
  {
   "cell_type": "markdown",
   "metadata": {},
   "source": [
    "### Creating Spark Session"
   ]
  },
  {
   "cell_type": "code",
   "execution_count": 7,
   "metadata": {},
   "outputs": [],
   "source": [
    "spark = create_spark_session()"
   ]
  },
  {
   "cell_type": "markdown",
   "metadata": {},
   "source": [
    "### Performing the Analysis"
   ]
  },
  {
   "cell_type": "code",
   "execution_count": 8,
   "metadata": {},
   "outputs": [
    {
     "name": "stdout",
     "output_type": "stream",
     "text": [
      "1. Total Content by Content Type:\n",
      "+-------------+-----------+\n",
      "|         type|total_count|\n",
      "+-------------+-----------+\n",
      "|        Movie|       6131|\n",
      "|      TV Show|       2676|\n",
      "|         NULL|          1|\n",
      "|William Wyler|          1|\n",
      "+-------------+-----------+\n",
      "\n",
      "\n",
      "2. Most Frequent Actors in the Dataset:\n",
      "+------------------+----------------+\n",
      "|             actor|appearance_count|\n",
      "+------------------+----------------+\n",
      "|              NULL|             826|\n",
      "|    Shah Rukh Khan|              26|\n",
      "|      Akshay Kumar|              23|\n",
      "|  Amitabh Bachchan|              20|\n",
      "|      Adam Sandler|              20|\n",
      "|David Attenborough|              20|\n",
      "|      Vatsal Dubey|              18|\n",
      "|        Ajay Devgn|              16|\n",
      "|      Nicolas Cage|              16|\n",
      "|      Michela Luci|              14|\n",
      "+------------------+----------------+\n",
      "\n",
      "\n",
      "3. Yearly Trend of Content Addition:\n",
      "+-----------------+-------------+\n",
      "|     release_year|content_count|\n",
      "+-----------------+-------------+\n",
      "|             NULL|            2|\n",
      "|   Charles Rocket|            1|\n",
      "|          Dr. Dre|            1|\n",
      "|   Francis Weddey|            1|\n",
      "|     Imanol Arias|            1|\n",
      "|      Jade Eshete|            1|\n",
      "| Kristen Johnston|            1|\n",
      "| Marquell Manning|            1|\n",
      "|       Nick Kroll|            1|\n",
      "|    Nse Ikpe-Etim|            1|\n",
      "|       Paul Sambo|            1|\n",
      "|   Peter Ferriero|            1|\n",
      "|     Ted Ferguson|            1|\n",
      "| Álvaro Cervantes|            1|\n",
      "|             1925|            1|\n",
      "|             1942|            2|\n",
      "|             1943|            3|\n",
      "|             1944|            2|\n",
      "|             1945|            4|\n",
      "|             1946|            2|\n",
      "+-----------------+-------------+\n",
      "only showing top 20 rows\n",
      "\n",
      "\n",
      "4. Top 10 Countries with the Most Content:\n",
      "+--------------+-------------+\n",
      "|       country|content_count|\n",
      "+--------------+-------------+\n",
      "| United States|         2805|\n",
      "|         India|          972|\n",
      "|          NULL|          832|\n",
      "|United Kingdom|          419|\n",
      "|         Japan|          245|\n",
      "|   South Korea|          199|\n",
      "|        Canada|          181|\n",
      "|         Spain|          145|\n",
      "|        France|          123|\n",
      "|        Mexico|          110|\n",
      "+--------------+-------------+\n",
      "\n",
      "\n",
      "5. Analysis of Ratings and Their Distribution:\n",
      "+-----------------+------------+\n",
      "|           rating|rating_count|\n",
      "+-----------------+------------+\n",
      "|            TV-MA|        3195|\n",
      "|            TV-14|        2158|\n",
      "|            TV-PG|         862|\n",
      "|                R|         796|\n",
      "|            PG-13|         489|\n",
      "|            TV-Y7|         334|\n",
      "|             TV-Y|         307|\n",
      "|               PG|         286|\n",
      "|             TV-G|         220|\n",
      "|               NR|          80|\n",
      "|                G|          41|\n",
      "|             NULL|           6|\n",
      "|         TV-Y7-FV|           6|\n",
      "|               UR|           3|\n",
      "|            NC-17|           3|\n",
      "|             2021|           2|\n",
      "| November 1, 2020|           1|\n",
      "| Shavidee Trotter|           1|\n",
      "|    Adriane Lenox|           1|\n",
      "|    Maury Chaykin|           1|\n",
      "+-----------------+------------+\n",
      "only showing top 20 rows\n",
      "\n",
      "\n",
      "6. Top 10 Titles with the Shortest Names:\n",
      "+-----+------------+\n",
      "|title|title_length|\n",
      "+-----+------------+\n",
      "| NULL|        NULL|\n",
      "| NULL|        NULL|\n",
      "|    H|           1|\n",
      "|    P|           1|\n",
      "|    9|           1|\n",
      "|    K|           1|\n",
      "|   Z4|           2|\n",
      "|   PK|           2|\n",
      "|   21|           2|\n",
      "|   46|           2|\n",
      "+-----+------------+\n",
      "\n",
      "\n",
      "7. Correlation Between Release Year and Content Count:\n",
      "+-----------------+-------------+\n",
      "|     release_year|content_count|\n",
      "+-----------------+-------------+\n",
      "|             NULL|            2|\n",
      "|   Charles Rocket|            1|\n",
      "|          Dr. Dre|            1|\n",
      "|   Francis Weddey|            1|\n",
      "|     Imanol Arias|            1|\n",
      "|      Jade Eshete|            1|\n",
      "| Kristen Johnston|            1|\n",
      "| Marquell Manning|            1|\n",
      "|       Nick Kroll|            1|\n",
      "|    Nse Ikpe-Etim|            1|\n",
      "|       Paul Sambo|            1|\n",
      "|   Peter Ferriero|            1|\n",
      "|     Ted Ferguson|            1|\n",
      "| Álvaro Cervantes|            1|\n",
      "|             1925|            1|\n",
      "|             1942|            2|\n",
      "|             1943|            3|\n",
      "|             1944|            2|\n",
      "|             1945|            4|\n",
      "|             1946|            2|\n",
      "+-----------------+-------------+\n",
      "only showing top 20 rows\n",
      "\n"
     ]
    }
   ],
   "source": [
    " # Get the current directory\n",
    "dataset_path = 'netflix_titles.csv' \n",
    "\n",
    "# Load Netflix Dataset\n",
    "netflix_df = load_netflix_dataset(spark, dataset_path)\n",
    "\n",
    "# Perform EDA\n",
    "perform_eda(netflix_df)"
   ]
  },
  {
   "cell_type": "code",
   "execution_count": 23,
   "metadata": {},
   "outputs": [],
   "source": [
    "spark.stop()"
   ]
  }
 ],
 "metadata": {
  "kernelspec": {
   "display_name": "Python 3 (ipykernel)",
   "language": "python",
   "name": "python3"
  },
  "language_info": {
   "codemirror_mode": {
    "name": "ipython",
    "version": 3
   },
   "file_extension": ".py",
   "mimetype": "text/x-python",
   "name": "python",
   "nbconvert_exporter": "python",
   "pygments_lexer": "ipython3",
   "version": "3.11.6"
  }
 },
 "nbformat": 4,
 "nbformat_minor": 4
}
